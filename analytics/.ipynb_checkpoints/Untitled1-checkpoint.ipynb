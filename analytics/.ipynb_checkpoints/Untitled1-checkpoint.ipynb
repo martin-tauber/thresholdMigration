{
 "cells": [
  {
   "cell_type": "code",
   "execution_count": 1,
   "metadata": {},
   "outputs": [],
   "source": [
    "import pandas as pd\n",
    "import numpy as np\n",
    "\n",
    "import sys\n",
    "sys.path.append(\"..\")\n",
    "from lib.thresholds import FileThresholdSet, InstanceThresholdMigrator\n",
    "from lib.kmrepository import KMRepository\n",
    "from lib.policy import PolicyFactory\n",
    "from lib.solution import SolutionPackManager\n",
    "from lib.ruleset import RuleSetFactory, RulesetMigrator"
   ]
  },
  {
   "cell_type": "code",
   "execution_count": 3,
   "metadata": {},
   "outputs": [
    {
     "ename": "NameError",
     "evalue": "name 'kmRepository' is not defined",
     "output_type": "error",
     "traceback": [
      "\u001b[0;31m---------------------------------------------------------------------------\u001b[0m",
      "\u001b[0;31mNameError\u001b[0m                                 Traceback (most recent call last)",
      "\u001b[0;32m<ipython-input-3-79b69b0f4894>\u001b[0m in \u001b[0;36m<module>\u001b[0;34m\u001b[0m\n\u001b[0;32m----> 1\u001b[0;31m \u001b[0msolutionPackManager\u001b[0m \u001b[0;34m=\u001b[0m \u001b[0mSolutionPackManager\u001b[0m\u001b[0;34m(\u001b[0m\u001b[0mpath\u001b[0m\u001b[0;34m=\u001b[0m\u001b[0;34m\"solutions\"\u001b[0m\u001b[0;34m,\u001b[0m \u001b[0mrepository\u001b[0m \u001b[0;34m=\u001b[0m \u001b[0mkmRepository\u001b[0m\u001b[0;34m)\u001b[0m\u001b[0;34m\u001b[0m\u001b[0;34m\u001b[0m\u001b[0m\n\u001b[0m\u001b[1;32m      2\u001b[0m \u001b[0mrulesets\u001b[0m \u001b[0;34m=\u001b[0m \u001b[0mRuleSetFactory\u001b[0m\u001b[0;34m(\u001b[0m\u001b[0;34m\"/Users/martin/Development/pcm2cma/in/pconfig/activ\"\u001b[0m\u001b[0;34m)\u001b[0m\u001b[0;34m\u001b[0m\u001b[0;34m\u001b[0m\u001b[0m\n\u001b[1;32m      3\u001b[0m \u001b[0;34m\u001b[0m\u001b[0m\n\u001b[1;32m      4\u001b[0m \u001b[0;34m\u001b[0m\u001b[0m\n\u001b[1;32m      5\u001b[0m \u001b[0mrulesetMigrator\u001b[0m \u001b[0;34m=\u001b[0m \u001b[0mRulesetMigrator\u001b[0m\u001b[0;34m(\u001b[0m\u001b[0mrulesets\u001b[0m\u001b[0;34m,\u001b[0m \u001b[0msolutionPackManager\u001b[0m\u001b[0;34m,\u001b[0m \u001b[0mkmRepository\u001b[0m\u001b[0;34m)\u001b[0m\u001b[0;34m\u001b[0m\u001b[0;34m\u001b[0m\u001b[0m\n",
      "\u001b[0;31mNameError\u001b[0m: name 'kmRepository' is not defined"
     ]
    }
   ],
   "source": [
    "solutionPackManager = SolutionPackManager(path=\"solutions\", repository = kmRepository)\n",
    "rulesets = RuleSetFactory(\"/Users/martin/Development/pcm2cma/in/pconfig/activ\")\n",
    "\n",
    "rulesetMigrator = RulesetMigrator(rulesets, solutionPackManager, kmRepository)\n",
    "rulesetConfigurations = rulesetMigrator.migrate()\n",
    "\n",
    "# Generate Policies\n",
    "policyFactory = PolicyFactory(None, \"*\", \"*\", False, False, 399, 499, \"owner\", \"group\", False, 30, \"/tmp/agentinfo.csv\")"
   ]
  },
  {
   "cell_type": "code",
   "execution_count": null,
   "metadata": {},
   "outputs": [],
   "source": []
  }
 ],
 "metadata": {
  "kernelspec": {
   "display_name": "Python 3",
   "language": "python",
   "name": "python3"
  },
  "language_info": {
   "codemirror_mode": {
    "name": "ipython",
    "version": 3
   },
   "file_extension": ".py",
   "mimetype": "text/x-python",
   "name": "python",
   "nbconvert_exporter": "python",
   "pygments_lexer": "ipython3",
   "version": "3.7.6"
  }
 },
 "nbformat": 4,
 "nbformat_minor": 4
}
