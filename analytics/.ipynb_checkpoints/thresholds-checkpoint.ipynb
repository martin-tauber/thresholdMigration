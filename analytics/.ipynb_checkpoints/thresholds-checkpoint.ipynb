{
 "cells": [
  {
   "cell_type": "code",
   "execution_count": 1,
   "metadata": {},
   "outputs": [],
   "source": [
    "import pandas as pd\n",
    "import numpy as np\n",
    "\n",
    "import sys\n",
    "sys.path.append(\"..\")\n",
    "from lib.thresholds import FileThresholdSet, InstanceThresholdMigrator\n",
    "from lib.kmrepository import KMRepository\n",
    "from lib.policy import PolicyFactory"
   ]
  },
  {
   "cell_type": "code",
   "execution_count": 2,
   "metadata": {},
   "outputs": [
    {
     "name": "stderr",
     "output_type": "stream",
     "text": [
      "2020-09-02 11:12:51,436 - lib.kmrepository - INFO - Loading KM repository from cache '../cache/11.3.03' ...\n",
      "2020-09-02 11:12:51,468 - lib.thresholds - INFO - Loading Server Thresholds from '/Users/martin/Downloads/tsim-blr-win01_AllInstanceThresholdSettings_2020_07_26_19_15_45.csv' ...\n",
      "2020-09-02 11:12:51,812 - lib.thresholds - INFO - Migrating 61329 instance thresholds ...\n"
     ]
    }
   ],
   "source": [
    "kmRepository = KMRepository.get(cachedir=\"../cache\")\n",
    "\n",
    "thresholds = FileThresholdSet([\"/Users/martin/Downloads/tsim-blr-win01_AllInstanceThresholdSettings_2020_07_26_19_15_45.csv\"])\n",
    "thresholds.load()\n",
    "migrator = InstanceThresholdMigrator(thresholds, kmRepository)\n",
    "agentConfigurations = migrator.migrate()\n",
    "\n",
    "policyFactory = PolicyFactory(\"*\", \"*\", False, False, 399, \"admin\", \"administrators\")\n",
    "\n"
   ]
  },
  {
   "cell_type": "code",
   "execution_count": null,
   "metadata": {},
   "outputs": [
    {
     "name": "stderr",
     "output_type": "stream",
     "text": [
      "2020-09-02 11:12:57,650 - lib.policy - INFO - Optimizing policies for 2543 agents ...\n",
      "2020-09-02 11:12:57,650 - lib.policy - INFO - Found 27 unique configurations.\n"
     ]
    }
   ],
   "source": [
    "(configurationMatrix, uniqueConfigurations, id) = policyFactory.optimize(agentConfigurations)"
   ]
  },
  {
   "cell_type": "code",
   "execution_count": 4,
   "metadata": {},
   "outputs": [
    {
     "data": {
      "text/plain": [
       "61329"
      ]
     },
     "execution_count": 4,
     "metadata": {},
     "output_type": "execute_result"
    }
   ],
   "source": [
    "len(uniqueConfigurations)"
   ]
  }
 ],
 "metadata": {
  "kernelspec": {
   "display_name": "Python 3",
   "language": "python",
   "name": "python3"
  },
  "language_info": {
   "codemirror_mode": {
    "name": "ipython",
    "version": 3
   },
   "file_extension": ".py",
   "mimetype": "text/x-python",
   "name": "python",
   "nbconvert_exporter": "python",
   "pygments_lexer": "ipython3",
   "version": "3.7.6"
  }
 },
 "nbformat": 4,
 "nbformat_minor": 4
}
