{
 "cells": [
  {
   "cell_type": "code",
   "execution_count": 1,
   "metadata": {},
   "outputs": [],
   "source": [
    "import pandas as pd\n",
    "import numpy as np\n",
    "\n",
    "import sys\n",
    "sys.path.append(\"..\")\n",
    "from lib.thresholds import FileThresholdSet, InstanceThresholdMigrator\n",
    "from lib.kmrepository import KMRepository\n",
    "from lib.policy import PolicyFactory\n",
    "from lib.solution import SolutionPackManager\n",
    "from lib.ruleset import RuleSetFactory, RulesetMigrator"
   ]
  },
  {
   "cell_type": "code",
   "execution_count": 2,
   "metadata": {},
   "outputs": [
    {
     "name": "stderr",
     "output_type": "stream",
     "text": [
      "2020-09-10 16:59:35,420 - lib.kmrepository - INFO - Loading KM repository from cache '../cache/abc' ...\n",
      "2020-09-10 16:59:35,482 - lib.thresholds - INFO - Loading Server Thresholds from '/Users/martin/Downloads/tsim-blr-win01_AllInstanceThresholdSettings_2020_07_26_19_15_45.csv' ...\n",
      "2020-09-10 16:59:35,777 - lib.thresholds - INFO - Migrating 61329 instance thresholds ...\n"
     ]
    }
   ],
   "source": [
    "kmRepository = KMRepository.get(cachedir=\"../cache\")\n",
    "\n",
    "thresholds = FileThresholdSet([\"/Users/martin/Downloads/tsim-blr-win01_AllInstanceThresholdSettings_2020_07_26_19_15_45.csv\"])\n",
    "thresholds.load()\n",
    "migrator = InstanceThresholdMigrator(thresholds, kmRepository)\n",
    "agentConfigurations = migrator.migrate()\n",
    "\n",
    "policyFactory = PolicyFactory(\"ALL\", \"*\", \"*\", False, False, 399, 499, \"admin\", \"administrators\")\n",
    "\n"
   ]
  },
  {
   "cell_type": "code",
   "execution_count": 3,
   "metadata": {},
   "outputs": [
    {
     "name": "stderr",
     "output_type": "stream",
     "text": [
      "2020-09-10 17:06:25,848 - lib.policy - INFO - Optimizing policies for 2543 agents ...\n",
      "2020-09-10 17:06:25,848 - lib.policy - INFO - Found 27 unique configurations.\n",
      "2020-09-10 17:06:28,223 - lib.policy - INFO - Optimizing policies for monitor 'CPU' ...\n",
      "2020-09-10 17:06:28,232 - lib.policy - INFO - Found 21 unique configurations for monitor 'CPU'.\n",
      "2020-09-10 17:06:28,325 - lib.policy - INFO - Found configuration set containing 21 configurations, covering 2196 agents. Total coverage 86.3546991742037 %.\n",
      "2020-09-10 17:06:28,326 - lib.policy - INFO - Optimizing policies for monitor 'HAAG' ...\n",
      "2020-09-10 17:06:28,328 - lib.policy - INFO - Found 1 unique configurations for monitor 'HAAG'.\n",
      "2020-09-10 17:06:28,494 - lib.policy - INFO - Found configuration set containing 1 configurations, covering 2543 agents. Total coverage 100.0 %.\n",
      "2020-09-10 17:06:28,496 - lib.policy - INFO - Optimizing policies for monitor 'MEMORY' ...\n",
      "2020-09-10 17:06:28,498 - lib.policy - INFO - Found 5 unique configurations for monitor 'MEMORY'.\n",
      "2020-09-10 17:06:28,604 - lib.policy - INFO - Found configuration set containing 5 configurations, covering 2534 agents. Total coverage 99.64608729846638 %.\n"
     ]
    }
   ],
   "source": [
    "(configurationMatrix, uniqueConfigurations, id) = policyFactory.optimize(agentConfigurations)"
   ]
  },
  {
   "cell_type": "code",
   "execution_count": 25,
   "metadata": {},
   "outputs": [],
   "source": [
    "#matrix = configurationMatrix\n",
    "s = (matrix[matrix.columns.tolist()] == True).sum(axis = 0)\n"
   ]
  },
  {
   "cell_type": "code",
   "execution_count": 6,
   "metadata": {},
   "outputs": [
    {
     "name": "stderr",
     "output_type": "stream",
     "text": [
      "2020-09-09 17:30:22,820 - lib.kmrepository - INFO - Loading KM repository from cache '../cache/abc' ...\n",
      "2020-09-09 17:30:23,122 - lib.ruleset - ERROR - Found unexpected token 'open' in '/Users/martin/Development/pcm2cma/in/pconfig/activ/hst1827947_3181.cfg' at 1. Expected '='.\n",
      "2020-09-09 17:30:23,147 - lib.ruleset - ERROR - Found unexpected token 'with' in '/Users/martin/Development/pcm2cma/in/pconfig/activ/hst1827930_3181.cfg' at 1. Expected '='.\n",
      "2020-09-09 17:30:23,148 - lib.ruleset - ERROR - Found unexpected token 'with' in '/Users/martin/Development/pcm2cma/in/pconfig/activ/hst1827931_3181.cfg' at 1. Expected '='.\n",
      "2020-09-09 17:30:23,776 - lib.ruleset - ERROR - Found unexpected token 'open' in '/Users/martin/Development/pcm2cma/in/pconfig/activ/hst1827951_3181.cfg' at 1. Expected '='.\n",
      "2020-09-09 17:30:24,086 - lib.ruleset - ERROR - Found unexpected token 'open' in '/Users/martin/Development/pcm2cma/in/pconfig/activ/hst1827957_3181.cfg' at 1. Expected '='.\n",
      "2020-09-09 17:30:24,100 - lib.ruleset - ERROR - Ruleset file '/Users/martin/Development/pcm2cma/in/pconfig/activ/.cfg' does not match file naming convention.\n",
      "2020-09-09 17:30:25,128 - lib.ruleset - ERROR - Found unexpected token 'open' in '/Users/martin/Development/pcm2cma/in/pconfig/activ/hst1827940_3181.cfg' at 1. Expected '='.\n",
      "2020-09-09 17:30:25,151 - lib.ruleset - ERROR - Found unexpected token 'from' in '/Users/martin/Development/pcm2cma/in/pconfig/activ/hst1827936_3181.cfg' at 1. Expected '='.\n",
      "2020-09-09 17:30:25,427 - lib.ruleset - ERROR - Found unexpected token 'open' in '/Users/martin/Development/pcm2cma/in/pconfig/activ/hst1827959_3181.cfg' at 1. Expected '='.\n",
      "2020-09-09 17:30:25,476 - lib.ruleset - ERROR - Found unexpected token 'open' in '/Users/martin/Development/pcm2cma/in/pconfig/activ/hst1827945_3181.cfg' at 1. Expected '='.\n",
      "2020-09-09 17:30:25,479 - lib.ruleset - ERROR - Found unexpected token 'with' in '/Users/martin/Development/pcm2cma/in/pconfig/activ/hst1827933_3181.cfg' at 1. Expected '='.\n",
      "2020-09-09 17:30:25,568 - lib.ruleset - ERROR - Found unexpected token 'from' in '/Users/martin/Development/pcm2cma/in/pconfig/activ/hst1827938_3181.cfg' at 1. Expected '='.\n",
      "2020-09-09 17:30:25,637 - lib.ruleset - ERROR - Found unexpected token 'open' in '/Users/martin/Development/pcm2cma/in/pconfig/activ/hst1827948_3181.cfg' at 1. Expected '='.\n",
      "2020-09-09 17:30:26,029 - lib.ruleset - ERROR - Found unexpected token 'open' in '/Users/martin/Development/pcm2cma/in/pconfig/activ/hst1827960_3181.cfg' at 1. Expected '='.\n",
      "2020-09-09 17:30:26,030 - lib.ruleset - ERROR - Found unexpected token 'open' in '/Users/martin/Development/pcm2cma/in/pconfig/activ/hst1827961_3181.cfg' at 1. Expected '='.\n"
     ]
    }
   ],
   "source": [
    "kmRepository = KMRepository.get(cachedir=\"../cache\")\n",
    "\n",
    "solutionPackManager = SolutionPackManager(path=\"solutions\", repository = kmRepository)\n",
    "rulesets = RuleSetFactory([\"/Users/martin/Development/pcm2cma/in/pconfig/activ\"])\n",
    "\n",
    "rulesetMigrator = RulesetMigrator(rulesets, solutionPackManager, kmRepository)\n",
    "rulesetConfigurations = rulesetMigrator.migrate()\n",
    "\n"
   ]
  },
  {
   "cell_type": "code",
   "execution_count": 97,
   "metadata": {},
   "outputs": [],
   "source": [
    "sc = ['__solution__','__monitorType__']\n",
    "sc.extend((c[c.columns[2:].tolist()] == True).sum(axis = 0).sort_values(ascending = False).index.tolist())\n",
    "si = (c[c.columns.tolist()] == True).sum(axis = 1).sort_values(ascending = False).index.tolist()"
   ]
  },
  {
   "cell_type": "code",
   "execution_count": 131,
   "metadata": {},
   "outputs": [
    {
     "data": {
      "text/plain": [
       "[0, 1, 2]"
      ]
     },
     "execution_count": 131,
     "metadata": {},
     "output_type": "execute_result"
    }
   ],
   "source": [
    "c.index[:3].tolist()"
   ]
  },
  {
   "cell_type": "code",
   "execution_count": 126,
   "metadata": {},
   "outputs": [
    {
     "data": {
      "text/plain": [
       "27"
      ]
     },
     "execution_count": 126,
     "metadata": {},
     "output_type": "execute_result"
    }
   ],
   "source": [
    "len(c.index)\n"
   ]
  },
  {
   "cell_type": "code",
   "execution_count": 5,
   "metadata": {},
   "outputs": [
    {
     "name": "stderr",
     "output_type": "stream",
     "text": [
      "2020-09-09 17:30:11,875 - lib.policy - INFO - Optimizing policies for 0 agents ...\n",
      "2020-09-09 17:30:11,876 - lib.policy - INFO - Found 0 unique configurations.\n"
     ]
    },
    {
     "ename": "IndexError",
     "evalue": "index 2 is out of bounds for axis 0 with size 2",
     "output_type": "error",
     "traceback": [
      "\u001b[0;31m---------------------------------------------------------------------------\u001b[0m",
      "\u001b[0;31mIndexError\u001b[0m                                Traceback (most recent call last)",
      "\u001b[0;32m<ipython-input-5-e3d2c5952b79>\u001b[0m in \u001b[0;36m<module>\u001b[0;34m\u001b[0m\n\u001b[1;32m      1\u001b[0m \u001b[0mpolicyFactory\u001b[0m \u001b[0;34m=\u001b[0m \u001b[0mPolicyFactory\u001b[0m\u001b[0;34m(\u001b[0m\u001b[0;34m\"ALL\"\u001b[0m\u001b[0;34m,\u001b[0m \u001b[0;34m\"*\"\u001b[0m\u001b[0;34m,\u001b[0m \u001b[0;34m\"*\"\u001b[0m\u001b[0;34m,\u001b[0m \u001b[0;32mFalse\u001b[0m\u001b[0;34m,\u001b[0m \u001b[0;32mFalse\u001b[0m\u001b[0;34m,\u001b[0m \u001b[0;36m399\u001b[0m\u001b[0;34m,\u001b[0m \u001b[0;36m499\u001b[0m\u001b[0;34m,\u001b[0m \u001b[0;34m\"admin\"\u001b[0m\u001b[0;34m,\u001b[0m \u001b[0;34m\"administrators\"\u001b[0m\u001b[0;34m)\u001b[0m\u001b[0;34m\u001b[0m\u001b[0;34m\u001b[0m\u001b[0m\n\u001b[0;32m----> 2\u001b[0;31m \u001b[0;34m(\u001b[0m\u001b[0mconfigurationMatrix\u001b[0m\u001b[0;34m,\u001b[0m \u001b[0muniqueConfigurations\u001b[0m\u001b[0;34m,\u001b[0m \u001b[0mid\u001b[0m\u001b[0;34m)\u001b[0m \u001b[0;34m=\u001b[0m \u001b[0mpolicyFactory\u001b[0m\u001b[0;34m.\u001b[0m\u001b[0moptimize\u001b[0m\u001b[0;34m(\u001b[0m\u001b[0mrulesetConfigurations\u001b[0m\u001b[0;34m)\u001b[0m\u001b[0;34m\u001b[0m\u001b[0;34m\u001b[0m\u001b[0m\n\u001b[0m",
      "\u001b[0;32m~/Development/thresholdMigration/lib/policy.py\u001b[0m in \u001b[0;36moptimize\u001b[0;34m(self, agentConfigurations)\u001b[0m\n\u001b[1;32m     90\u001b[0m         \u001b[0;34m(\u001b[0m\u001b[0mconfigurationMatrix\u001b[0m\u001b[0;34m,\u001b[0m \u001b[0mconfigurations\u001b[0m\u001b[0;34m)\u001b[0m \u001b[0;34m=\u001b[0m \u001b[0mself\u001b[0m\u001b[0;34m.\u001b[0m\u001b[0mcreateConfigurationMatrix\u001b[0m\u001b[0;34m(\u001b[0m\u001b[0magentConfigurations\u001b[0m\u001b[0;34m)\u001b[0m\u001b[0;34m\u001b[0m\u001b[0;34m\u001b[0m\u001b[0m\n\u001b[1;32m     91\u001b[0m \u001b[0;34m\u001b[0m\u001b[0m\n\u001b[0;32m---> 92\u001b[0;31m         \u001b[0mstartColumn\u001b[0m \u001b[0;34m=\u001b[0m \u001b[0mconfigurationMatrix\u001b[0m\u001b[0;34m.\u001b[0m\u001b[0mcolumns\u001b[0m\u001b[0;34m[\u001b[0m\u001b[0;36m2\u001b[0m\u001b[0;34m]\u001b[0m\u001b[0;34m\u001b[0m\u001b[0;34m\u001b[0m\u001b[0m\n\u001b[0m\u001b[1;32m     93\u001b[0m         \u001b[0;32mfor\u001b[0m \u001b[0mmonitorType\u001b[0m \u001b[0;32min\u001b[0m \u001b[0mconfigurationMatrix\u001b[0m\u001b[0;34m[\u001b[0m\u001b[0;34m\"__monitorType__\"\u001b[0m\u001b[0;34m]\u001b[0m\u001b[0;34m.\u001b[0m\u001b[0munique\u001b[0m\u001b[0;34m(\u001b[0m\u001b[0;34m)\u001b[0m\u001b[0;34m:\u001b[0m\u001b[0;34m\u001b[0m\u001b[0;34m\u001b[0m\u001b[0m\n\u001b[1;32m     94\u001b[0m             \u001b[0mlogger\u001b[0m\u001b[0;34m.\u001b[0m\u001b[0minfo\u001b[0m\u001b[0;34m(\u001b[0m\u001b[0;34mf\"Optimizing policies for monitor '{monitorType}' ...\"\u001b[0m\u001b[0;34m)\u001b[0m\u001b[0;34m\u001b[0m\u001b[0;34m\u001b[0m\u001b[0m\n",
      "\u001b[0;32m~/opt/anaconda3/lib/python3.7/site-packages/pandas/core/indexes/base.py\u001b[0m in \u001b[0;36m__getitem__\u001b[0;34m(self, key)\u001b[0m\n\u001b[1;32m   3928\u001b[0m         \u001b[0;32mif\u001b[0m \u001b[0mis_scalar\u001b[0m\u001b[0;34m(\u001b[0m\u001b[0mkey\u001b[0m\u001b[0;34m)\u001b[0m\u001b[0;34m:\u001b[0m\u001b[0;34m\u001b[0m\u001b[0;34m\u001b[0m\u001b[0m\n\u001b[1;32m   3929\u001b[0m             \u001b[0mkey\u001b[0m \u001b[0;34m=\u001b[0m \u001b[0mcom\u001b[0m\u001b[0;34m.\u001b[0m\u001b[0mcast_scalar_indexer\u001b[0m\u001b[0;34m(\u001b[0m\u001b[0mkey\u001b[0m\u001b[0;34m)\u001b[0m\u001b[0;34m\u001b[0m\u001b[0;34m\u001b[0m\u001b[0m\n\u001b[0;32m-> 3930\u001b[0;31m             \u001b[0;32mreturn\u001b[0m \u001b[0mgetitem\u001b[0m\u001b[0;34m(\u001b[0m\u001b[0mkey\u001b[0m\u001b[0;34m)\u001b[0m\u001b[0;34m\u001b[0m\u001b[0;34m\u001b[0m\u001b[0m\n\u001b[0m\u001b[1;32m   3931\u001b[0m \u001b[0;34m\u001b[0m\u001b[0m\n\u001b[1;32m   3932\u001b[0m         \u001b[0;32mif\u001b[0m \u001b[0misinstance\u001b[0m\u001b[0;34m(\u001b[0m\u001b[0mkey\u001b[0m\u001b[0;34m,\u001b[0m \u001b[0mslice\u001b[0m\u001b[0;34m)\u001b[0m\u001b[0;34m:\u001b[0m\u001b[0;34m\u001b[0m\u001b[0;34m\u001b[0m\u001b[0m\n",
      "\u001b[0;31mIndexError\u001b[0m: index 2 is out of bounds for axis 0 with size 2"
     ]
    }
   ],
   "source": [
    "policyFactory = PolicyFactory(\"ALL\", \"*\", \"*\", False, False, 399, 499, \"admin\", \"administrators\")\n",
    "(configurationMatrix, uniqueConfigurations, id) = policyFactory.optimize(rulesetConfigurations)"
   ]
  },
  {
   "cell_type": "code",
   "execution_count": null,
   "metadata": {},
   "outputs": [],
   "source": []
  },
  {
   "cell_type": "code",
   "execution_count": null,
   "metadata": {},
   "outputs": [],
   "source": []
  },
  {
   "cell_type": "code",
   "execution_count": null,
   "metadata": {},
   "outputs": [],
   "source": []
  },
  {
   "cell_type": "code",
   "execution_count": null,
   "metadata": {},
   "outputs": [],
   "source": []
  },
  {
   "cell_type": "code",
   "execution_count": null,
   "metadata": {},
   "outputs": [],
   "source": []
  },
  {
   "cell_type": "code",
   "execution_count": 4,
   "metadata": {},
   "outputs": [
    {
     "data": {
      "text/plain": [
       "73"
      ]
     },
     "execution_count": 4,
     "metadata": {},
     "output_type": "execute_result"
    }
   ],
   "source": [
    "len(rulesets)"
   ]
  },
  {
   "cell_type": "code",
   "execution_count": 74,
   "metadata": {},
   "outputs": [
    {
     "data": {
      "text/plain": [
       "False"
      ]
     },
     "execution_count": 74,
     "metadata": {},
     "output_type": "execute_result"
    }
   ],
   "source": [
    "all(d[1])"
   ]
  },
  {
   "cell_type": "code",
   "execution_count": 21,
   "metadata": {},
   "outputs": [],
   "source": [
    "d = pd.DataFrame(columns=[\"config\", \"variant\", \"id1\", \"id2\"])"
   ]
  },
  {
   "cell_type": "code",
   "execution_count": 22,
   "metadata": {},
   "outputs": [],
   "source": [
    "d.insert(column=\"id3\", value=1, loc=2)"
   ]
  },
  {
   "cell_type": "code",
   "execution_count": 90,
   "metadata": {},
   "outputs": [
    {
     "data": {
      "text/plain": [
       "{3}"
      ]
     },
     "execution_count": 90,
     "metadata": {},
     "output_type": "execute_result"
    }
   ],
   "source": [
    "a={1,2,3}\n",
    "a.difference({1,2})"
   ]
  },
  {
   "cell_type": "code",
   "execution_count": 92,
   "metadata": {},
   "outputs": [],
   "source": [
    "a={\"a\":\"a\", \"b\":\"b\"}"
   ]
  },
  {
   "cell_type": "code",
   "execution_count": 94,
   "metadata": {},
   "outputs": [
    {
     "data": {
      "text/plain": [
       "2"
      ]
     },
     "execution_count": 94,
     "metadata": {},
     "output_type": "execute_result"
    }
   ],
   "source": [
    "len(a)"
   ]
  },
  {
   "cell_type": "code",
   "execution_count": null,
   "metadata": {},
   "outputs": [],
   "source": []
  }
 ],
 "metadata": {
  "kernelspec": {
   "display_name": "Python 3",
   "language": "python",
   "name": "python3"
  },
  "language_info": {
   "codemirror_mode": {
    "name": "ipython",
    "version": 3
   },
   "file_extension": ".py",
   "mimetype": "text/x-python",
   "name": "python",
   "nbconvert_exporter": "python",
   "pygments_lexer": "ipython3",
   "version": "3.7.6"
  }
 },
 "nbformat": 4,
 "nbformat_minor": 4
}
